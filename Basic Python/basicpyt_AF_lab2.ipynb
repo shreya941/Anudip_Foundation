{
 "cells": [
  {
   "cell_type": "code",
   "execution_count": 1,
   "id": "945b2d35-0694-49c2-b11a-0dc8bca0e92d",
   "metadata": {},
   "outputs": [
    {
     "name": "stdin",
     "output_type": "stream",
     "text": [
      "Enter the year :  2000\n"
     ]
    },
    {
     "name": "stdout",
     "output_type": "stream",
     "text": [
      "Leap Year\n"
     ]
    }
   ],
   "source": [
    "#basic python lab2\n",
    "#1. Python program to check leap year\n",
    "year=int(input(\"Enter the year : \"))\n",
    "if year%4==0 and year%100!=0:\n",
    "    print(\"Leap year\")\n",
    "elif(year%400==0):\n",
    "    print(\"Leap Year\")\n",
    "else:\n",
    "    print(\"Not a leap year\")"
   ]
  },
  {
   "cell_type": "code",
   "execution_count": 3,
   "id": "47f5998c-4454-412d-9746-95cf52908542",
   "metadata": {},
   "outputs": [
    {
     "name": "stdin",
     "output_type": "stream",
     "text": [
      "enter 1 no 5\n",
      "enter 2 no 2\n",
      "enter 3 no 1\n"
     ]
    },
    {
     "name": "stdout",
     "output_type": "stream",
     "text": [
      "5  is greatest\n"
     ]
    }
   ],
   "source": [
    "#2. Python Program to Find the Largest Among Three Numbers\n",
    "num1=int (input(\"enter 1 no\"))\n",
    "num2=int (input(\"enter 2 no\"))\n",
    "num3=int (input(\"enter 3 no\"))\n",
    "if num1 >= num2 and num1 >= num3:\n",
    "        print( num1,\" is greatest\")\n",
    "elif num2 >= num1 and num2 >= num3:\n",
    "        print( num2,\" is greatest\")\n",
    "else:\n",
    "        print( num3,\" is greatest\")"
   ]
  },
  {
   "cell_type": "code",
   "execution_count": 4,
   "id": "34ffa612-30d3-46fc-a2d6-004a13bf0840",
   "metadata": {},
   "outputs": [
    {
     "name": "stdin",
     "output_type": "stream",
     "text": [
      "enter the number 8\n"
     ]
    },
    {
     "name": "stdout",
     "output_type": "stream",
     "text": [
      "The number is: Positive\n"
     ]
    }
   ],
   "source": [
    "#3. Python Program to Check if a Number is Positive, Negative or 0\n",
    "def check_number(number):\n",
    "    if number > 0:\n",
    "        return \"Positive\"\n",
    "    elif number < 0:\n",
    "        return \"Negative\"\n",
    "    else:\n",
    "        return \"Zero\"\n",
    "\n",
    "\n",
    "number = int(input(\"enter the number\"))\n",
    "print(\"The number is:\", check_number(number))\n"
   ]
  },
  {
   "cell_type": "code",
   "execution_count": 5,
   "id": "93869400-d4c2-4d25-9b68-868f51d63846",
   "metadata": {},
   "outputs": [
    {
     "name": "stdin",
     "output_type": "stream",
     "text": [
      "enter product code 1\n",
      "enter order amt 1500\n"
     ]
    },
    {
     "name": "stdout",
     "output_type": "stream",
     "text": [
      "The net amount to be paid is: 1350.0\n"
     ]
    }
   ],
   "source": [
    "#4.\n",
    "def calculate_net_amount(product_code, order_amount):\n",
    "    if product_code == 1 and order_amount > 1000:\n",
    "        discount = 0.10\n",
    "    elif product_code == 2 and order_amount > 100:\n",
    "        discount = 0.05\n",
    "    elif product_code == 3 and order_amount > 500:\n",
    "        discount = 0.10\n",
    "    else:\n",
    "        discount = 0.0\n",
    "\n",
    "    net_amount = order_amount * (1 - discount)\n",
    "    return net_amount\n",
    "\n",
    "product_code = int(input(\"enter product code\"))\n",
    "order_amount = int(input(\"enter order amt\"))\n",
    "print(\"The net amount to be paid is:\", calculate_net_amount(product_code, order_amount))\n"
   ]
  },
  {
   "cell_type": "code",
   "execution_count": 6,
   "id": "3090d18a-3c49-4cd4-baf4-9e14ce6ccb5d",
   "metadata": {},
   "outputs": [
    {
     "name": "stdin",
     "output_type": "stream",
     "text": [
      "enter dist 22\n"
     ]
    },
    {
     "name": "stdout",
     "output_type": "stream",
     "text": [
      "The fare for the distance is: 176\n"
     ]
    }
   ],
   "source": [
    "#5. A transport company charges the fare according to following table:\n",
    "#Distance Charges\n",
    "#1-50 8 Rs./Km\n",
    "#51-100 10 Rs./Km\n",
    "#> 100 12 Rs/Km\n",
    "\n",
    "def calculate_fare(distance):\n",
    "    if distance <= 50:\n",
    "        fare = distance * 8\n",
    "    elif distance <= 100:\n",
    "        fare = (50 * 8) + (distance - 50) * 10\n",
    "    else:\n",
    "        fare = (50 * 8) + (50 * 10) + (distance - 100) * 12\n",
    "\n",
    "    return fare\n",
    "\n",
    "\n",
    "distance = int (input(\"enter dist\"))\n",
    "print(\"The fare for the distance is:\", calculate_fare(distance))\n"
   ]
  },
  {
   "cell_type": "code",
   "execution_count": 7,
   "id": "143a7ef2-42cd-4fa3-ab7e-a1a436aad7b3",
   "metadata": {},
   "outputs": [
    {
     "name": "stdin",
     "output_type": "stream",
     "text": [
      "enter the number 541\n"
     ]
    },
    {
     "name": "stdout",
     "output_type": "stream",
     "text": [
      "reversed number is :  145\n"
     ]
    }
   ],
   "source": [
    "#6. Write a python program to reverse a number using a while loop.\n",
    "def reverse_number(number):\n",
    "    reversed_num = 0\n",
    "    while number > 0:\n",
    "        digit = number % 10\n",
    "        reversed_num = reversed_num * 10 + digit\n",
    "        number //= 10\n",
    "    return reversed_num\n",
    "\n",
    "number = int(input(\"enter the number\"))\n",
    "print(\"reversed number is : \",reverse_number(number))"
   ]
  },
  {
   "cell_type": "code",
   "execution_count": null,
   "id": "0f3d6df8-0d20-4e48-a838-acbc80a990a6",
   "metadata": {},
   "outputs": [],
   "source": [
    "#7. Write a python program to check whether a number is palindrome or not?\n"
   ]
  },
  {
   "cell_type": "code",
   "execution_count": 8,
   "id": "c4770aeb-72f7-4229-9b41-bffd08a87c26",
   "metadata": {},
   "outputs": [
    {
     "name": "stdin",
     "output_type": "stream",
     "text": [
      "enter the number 3\n"
     ]
    },
    {
     "name": "stdout",
     "output_type": "stream",
     "text": [
      "The factorial is: 6\n"
     ]
    }
   ],
   "source": [
    "#8. Write a python program finding the factorial of a given number using a while loop.\n",
    "def factorial(n):\n",
    "    result = 1\n",
    "    while n > 0:\n",
    "        result *= n\n",
    "        n -= 1\n",
    "    return result\n",
    "\n",
    "number = int(input(\"enter the number\"))\n",
    "print(\"The factorial is:\", factorial(number))\n"
   ]
  },
  {
   "cell_type": "code",
   "execution_count": 10,
   "id": "dac60525-5d48-4eef-bd23-106a237c667d",
   "metadata": {},
   "outputs": [
    {
     "name": "stdin",
     "output_type": "stream",
     "text": [
      "Enter a number (0 to stop):  2\n",
      "Enter a number (0 to stop):  1\n",
      "Enter a number (0 to stop):  2\n",
      "Enter a number (0 to stop):  0\n"
     ]
    },
    {
     "name": "stdout",
     "output_type": "stream",
     "text": [
      "The sum of all the numbers is: 5\n"
     ]
    }
   ],
   "source": [
    "#9 Accept numbers using input() function until the user enters 0. If user input 0 then break the while loop and display the sum of all the numbers.\n",
    "\n",
    "total = 0\n",
    "while True:\n",
    "    number = int(input(\"Enter a number (0 to stop): \"))\n",
    "    if number == 0:\n",
    "        break\n",
    "    total += number\n",
    "print(\"The sum of all the numbers is:\", total)\n"
   ]
  },
  {
   "cell_type": "code",
   "execution_count": 11,
   "id": "163bd621-ed67-4c11-b8e8-250691ccb7bf",
   "metadata": {},
   "outputs": [
    {
     "name": "stdout",
     "output_type": "stream",
     "text": [
      "1\n",
      "2\n",
      "3\n",
      "4\n",
      "5\n",
      "6\n",
      "7\n",
      "8\n",
      "9\n",
      "10\n"
     ]
    }
   ],
   "source": [
    "#10. Print the first 10 natural numbers using for loop\n",
    "\n",
    "for i in range(1, 11):\n",
    "    print(i)\n"
   ]
  },
  {
   "cell_type": "code",
   "execution_count": 15,
   "id": "7b323d14-3d8a-4f62-9cea-e61116883e92",
   "metadata": {},
   "outputs": [
    {
     "name": "stdout",
     "output_type": "stream",
     "text": [
      "The string is a palindrome: True\n"
     ]
    }
   ],
   "source": [
    "#11. Python Program to Check if the Given String is a Palindrome\n",
    "\n",
    "def is_palindrome(s):\n",
    "    return s == s[::-1]\n",
    "\n",
    "string = \"radar\"\n",
    "print(\"The string is a palindrome:\", is_palindrome(string))\n",
    "\n"
   ]
  },
  {
   "cell_type": "code",
   "execution_count": 14,
   "id": "e95a6972-8a4d-4358-817e-c148de33f44e",
   "metadata": {},
   "outputs": [
    {
     "name": "stdin",
     "output_type": "stream",
     "text": [
      "enter number 22\n"
     ]
    },
    {
     "name": "stdout",
     "output_type": "stream",
     "text": [
      "The number is an Armstrong number: False\n"
     ]
    }
   ],
   "source": [
    "#12 Python Program to Check if a Given Number is an Armstrong Number\n",
    "def is_armstrong(number):\n",
    "    sum_of_powers = sum(int(digit) ** len(str(number)) for digit in str(number))\n",
    "    return sum_of_powers == number\n",
    "\n",
    "\n",
    "number = int(input(\"enter number\"))\n",
    "print(\"The number is an Armstrong number:\", is_armstrong(number))"
   ]
  },
  {
   "cell_type": "code",
   "execution_count": 16,
   "id": "f32a26f9-7464-425f-96a5-158ae0038762",
   "metadata": {},
   "outputs": [
    {
     "name": "stdout",
     "output_type": "stream",
     "text": [
      "0 1 1 2 3 5 8 13 21 34 "
     ]
    }
   ],
   "source": [
    "#13. Python Program to Get the Fibonacci Series Between 0 to 50\n",
    "\n",
    "a, b = 0, 1\n",
    "print(a, b, end=\" \")\n",
    "while b <= 50:\n",
    "    a, b = b, a + b\n",
    "    if b <= 50:\n",
    "        print(b, end=\" \")"
   ]
  },
  {
   "cell_type": "code",
   "execution_count": null,
   "id": "1947c971-100a-4884-a2e3-48edd9d6b2d0",
   "metadata": {},
   "outputs": [],
   "source": [
    "#14. Python Program to Check the Validity of Password Input by Users\n",
    "\n",
    "def is_valid_password(password):\n",
    "    if len(password) < 8:\n",
    "        return False\n",
    "\n",
    "    has_lower = False\n",
    "    has_upper = False\n",
    "    has_digit = False\n",
    "    has_special = False\n",
    "\n",
    "    for char in password:\n",
    "        if char.islower():\n",
    "            has_lower = True\n",
    "        elif char.isupper():\n",
    "            has_upper = True\n",
    "        elif char.isdigit():\n",
    "            has_digit = True\n",
    "        elif char in \"@#$\":\n",
    "            has_special = True\n",
    "\n",
    "    return has_lower and has_upper and has_digit and has_special\n",
    "\n",
    "password = \"Aa1@abcd\"\n",
    "print(\"The password is valid:\", is_valid_password(password))\n"
   ]
  }
 ],
 "metadata": {
  "kernelspec": {
   "display_name": "Python 3 (ipykernel)",
   "language": "python",
   "name": "python3"
  },
  "language_info": {
   "codemirror_mode": {
    "name": "ipython",
    "version": 3
   },
   "file_extension": ".py",
   "mimetype": "text/x-python",
   "name": "python",
   "nbconvert_exporter": "python",
   "pygments_lexer": "ipython3",
   "version": "3.12.4"
  }
 },
 "nbformat": 4,
 "nbformat_minor": 5
}
