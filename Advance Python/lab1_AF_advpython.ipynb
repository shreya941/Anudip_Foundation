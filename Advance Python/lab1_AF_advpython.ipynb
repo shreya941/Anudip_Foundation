{
 "cells": [
  {
   "cell_type": "code",
   "execution_count": 3,
   "id": "a703dc6c-c920-40f2-8aa2-bec103175c0d",
   "metadata": {},
   "outputs": [],
   "source": [
    "import numpy as np"
   ]
  },
  {
   "cell_type": "code",
   "execution_count": 4,
   "id": "0dbaec2e-69e9-43a3-9aa7-79fe76c339a0",
   "metadata": {},
   "outputs": [
    {
     "name": "stdout",
     "output_type": "stream",
     "text": [
      "[1 2 3 4 5]\n"
     ]
    }
   ],
   "source": [
    "#ques1\n",
    "#convert the list to array and print it\n",
    "lis=[1,2,3,4,5]\n",
    "arr=np.array(lis)\n",
    "print(arr)"
   ]
  },
  {
   "cell_type": "code",
   "execution_count": 5,
   "id": "11515206-f3a4-483e-8ef8-bc65c0e834b9",
   "metadata": {},
   "outputs": [
    {
     "name": "stdout",
     "output_type": "stream",
     "text": [
      " first element :  1\n",
      " last element :  5\n",
      " After multiplying by 2  :  [ 2  4  6  8 10]\n"
     ]
    }
   ],
   "source": [
    "#ques2\n",
    "#print the first element \n",
    "print(\" first element : \",arr[0])\n",
    "#print the last element \n",
    "print(\" last element : \",arr[len(arr)-1])\n",
    "#multiply all the elements by 2 and then print the element \n",
    "print(\" After multiplying by 2  : \",arr*2)"
   ]
  },
  {
   "cell_type": "code",
   "execution_count": 6,
   "id": "b9c0b238-69ad-45c0-a007-ac1487c084ee",
   "metadata": {},
   "outputs": [
    {
     "name": "stdout",
     "output_type": "stream",
     "text": [
      "array of 10 zeroes\n",
      "[0 0 0 0 0 0 0 0 0 0]\n",
      "array of 10 ones\n",
      "[1 1 1 1 1 1 1 1 1 1]\n",
      "array of 10 fives\n",
      "[5 5 5 5 5 5 5 5 5 5]\n"
     ]
    }
   ],
   "source": [
    "#ques3\n",
    "#define 10 zeros in the array and then print it\n",
    "arra=np.zeros((10,),dtype=int)\n",
    "print(\"array of 10 zeroes\")\n",
    "print(arra)\n",
    "#define 10 ones in the array and then print it\n",
    "print(\"array of 10 ones\")\n",
    "arra=np.ones((10,),dtype=int)\n",
    "print(arra)\n",
    "#define 10 fives in the array and then print it\n",
    "print(\"array of 10 fives\")\n",
    "arra=np.ones((10,),dtype=int)*5\n",
    "print(arra)"
   ]
  },
  {
   "cell_type": "code",
   "execution_count": 8,
   "id": "0ad209b4-bbf7-496f-bff9-af402e19a075",
   "metadata": {},
   "outputs": [
    {
     "name": "stdout",
     "output_type": "stream",
     "text": [
      "[[ 2  3  4]\n",
      " [ 5  6  7]\n",
      " [ 8  9 10]]\n"
     ]
    }
   ],
   "source": [
    "#ques4\n",
    "#define numbers from 2 to 10 in a array and then reshape it to 3,3\n",
    "arr=np.arange(2,11).reshape(3,3)\n",
    "print(arr)"
   ]
  }
 ],
 "metadata": {
  "kernelspec": {
   "display_name": "Python 3 (ipykernel)",
   "language": "python",
   "name": "python3"
  },
  "language_info": {
   "codemirror_mode": {
    "name": "ipython",
    "version": 3
   },
   "file_extension": ".py",
   "mimetype": "text/x-python",
   "name": "python",
   "nbconvert_exporter": "python",
   "pygments_lexer": "ipython3",
   "version": "3.12.4"
  }
 },
 "nbformat": 4,
 "nbformat_minor": 5
}
