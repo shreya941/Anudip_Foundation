{
 "cells": [
  {
   "cell_type": "code",
   "execution_count": 4,
   "id": "f08a4bd7-ea5d-4a80-8bbe-fc049199294e",
   "metadata": {},
   "outputs": [
    {
     "name": "stdout",
     "output_type": "stream",
     "text": [
      "Sum of all items: 15\n"
     ]
    }
   ],
   "source": [
    "#1. Sum All Items in a List\n",
    "def sum_of_list(lst):\n",
    "    total = 0\n",
    "    for item in lst:\n",
    "        total += item\n",
    "    return total\n",
    "my_list = [1, 2, 3, 4, 5]\n",
    "print(\"Sum of all items:\", sum_of_list(my_list))\n"
   ]
  },
  {
   "cell_type": "code",
   "execution_count": 3,
   "id": "3a69d727-0d1c-4efe-b590-b0dcfcdfc82d",
   "metadata": {},
   "outputs": [
    {
     "name": "stdout",
     "output_type": "stream",
     "text": [
      "Smallest number: 1\n",
      "Largest number: 9\n"
     ]
    }
   ],
   "source": [
    "#2. Get the Largest and Smallest Number from a List Without Built-in Functions\n",
    "def find_min_max(lst):\n",
    "    min_val = lst[0]\n",
    "    max_val = lst[0]\n",
    "    for item in lst:\n",
    "        if item < min_val:\n",
    "            min_val = item\n",
    "        if item > max_val:\n",
    "            max_val = item\n",
    "\n",
    "    return min_val, max_val\n",
    "\n",
    "my_list = [5, 2, 9, 1, 5, 6]\n",
    "min_val, max_val = find_min_max(my_list)\n",
    "print(\"Smallest number:\", min_val)\n",
    "print(\"Largest number:\", max_val)\n"
   ]
  },
  {
   "cell_type": "code",
   "execution_count": null,
   "id": "65e3fbea-befc-4803-b336-96508a51a0d1",
   "metadata": {},
   "outputs": [],
   "source": [
    "#3. Find Duplicate Values from a List\n",
    "def find_duplicates(lst):\n",
    "    seen = set()\n",
    "    duplicates = set()\n",
    "\n",
    "    for item in lst:\n",
    "        if item in seen:\n",
    "            duplicates.add(item)\n",
    "        else:\n",
    "            seen.add(item)\n",
    "\n",
    "    return list(duplicates)\n",
    "\n",
    "# Example usage\n",
    "my_list = [1, 2, 3, 2, 4, 5, 1]\n",
    "print(\"Duplicate values:\", find_duplicates(my_list))\n"
   ]
  },
  {
   "cell_type": "code",
   "execution_count": 5,
   "id": "42bab365-ecd9-4f95-a074-4a10d6dd6f4d",
   "metadata": {},
   "outputs": [
    {
     "name": "stdout",
     "output_type": "stream",
     "text": [
      "First part: [1, 1, 2]\n",
      "Second part: [3, 4, 4, 5, 1]\n"
     ]
    }
   ],
   "source": [
    "#4. Write a Python program to split a given list into two parts where the length of the first part of the list is given.\n",
    "\n",
    "def split_list(lst, i):\n",
    "    return lst[:i], lst[i:]\n",
    "\n",
    "original_list = [1, 1, 2, 3, 4, 4, 5, 1]\n",
    "length = 3\n",
    "first_part, second_part = split_list(original_list, length)\n",
    "print(\"First part:\", first_part)\n",
    "print(\"Second part:\", second_part)\n",
    "\n"
   ]
  },
  {
   "cell_type": "code",
   "execution_count": 6,
   "id": "bff1bb22-df69-4095-b4b7-7326726c2ac9",
   "metadata": {},
   "outputs": [
    {
     "name": "stdout",
     "output_type": "stream",
     "text": [
      "Traverse the list in reverse order:\n",
      "black\n",
      "white\n",
      "green\n",
      "red\n"
     ]
    }
   ],
   "source": [
    "#5. Write a Python program to traverse a given list in reverse order, and print the elements with the original index.\n",
    "\n",
    "def traverse_reverse(lst):\n",
    "    for index in range(len(lst) - 1, -1, -1):\n",
    "        print(lst[index])\n",
    "\n",
    "original_list = ['red', 'green', 'white', 'black']\n",
    "print(\"Traverse the list in reverse order:\")\n",
    "traverse_reverse(original_list)\n",
    "\n"
   ]
  },
  {
   "cell_type": "code",
   "execution_count": 7,
   "id": "e3b9ab29-94a0-4990-9df6-192b929d6d32",
   "metadata": {},
   "outputs": [
    {
     "name": "stdout",
     "output_type": "stream",
     "text": [
      "Mean: 6.2\n"
     ]
    }
   ],
   "source": [
    "#1. Write a Python program and calculate the mean of the below dictionary.\n",
    "def calculate_mean(dictionary):\n",
    "    values = dictionary.values()\n",
    "    return sum(values) / len(values)\n",
    "\n",
    "test_dict = {\"A\": 6, \"B\": 9, \"C\": 5, \"D\": 7, \"E\": 4}\n",
    "print(\"Mean:\", calculate_mean(test_dict))\n"
   ]
  },
  {
   "cell_type": "code",
   "execution_count": 8,
   "id": "0bbbf26d-6d56-49e4-ba1c-275bb8d753ba",
   "metadata": {},
   "outputs": [
    {
     "name": "stdout",
     "output_type": "stream",
     "text": [
      "Concatenated Dictionary: {1: 10, 2: 20, 3: 30, 4: 40, 5: 50, 6: 60}\n"
     ]
    }
   ],
   "source": [
    "#2.Write a Python script to concatenate the following dictionaries to create a new one.\n",
    "dic1 = {1: 10, 2: 20}\n",
    "dic2 = {3: 30, 4: 40}\n",
    "dic3 = {5: 50, 6: 60}\n",
    "\n",
    "concatenated_dict = {}\n",
    "\n",
    "concatenated_dict.update(dic1)\n",
    "concatenated_dict.update(dic2)\n",
    "concatenated_dict.update(dic3)\n",
    "\n",
    "print(\"Concatenated Dictionary:\", concatenated_dict)\n",
    "\n",
    "\n"
   ]
  },
  {
   "cell_type": "code",
   "execution_count": 10,
   "id": "90fbaeff-8ce6-4968-9058-e07a8e22f2ab",
   "metadata": {},
   "outputs": [
    {
     "name": "stdout",
     "output_type": "stream",
     "text": [
      "Key\tValue\n",
      "1 \t 10\n",
      "2 \t 20\n",
      "3 \t 30\n",
      "4 \t 40\n",
      "5 \t 50\n",
      "6 \t 60\n"
     ]
    }
   ],
   "source": [
    "#3.Write a Python program to get the key, value and item in a dictionary.\n",
    "def display_dict_items(dictionary):\n",
    "    print(\"Key\\tValue\")\n",
    "    for key, value in dictionary.items():\n",
    "        print(key,'\\t',value)\n",
    "\n",
    "# Example usage\n",
    "dict_num = {1: 10, 2: 20, 3: 30, 4: 40, 5: 50, 6: 60}\n",
    "display_dict_items(dict_num)\n",
    "\n"
   ]
  },
  {
   "cell_type": "code",
   "execution_count": 11,
   "id": "52c234b4-b08a-4b7d-a98f-40e3e42cc638",
   "metadata": {},
   "outputs": [
    {
     "name": "stdout",
     "output_type": "stream",
     "text": [
      "Dictionary with empty items dropped: {1: 10, 2: 20, 4: 40, 6: 60}\n"
     ]
    }
   ],
   "source": [
    "#4.Write a Python program to get the key, value and item in a dictionary.\n",
    "\n",
    "input_dict = {1: 10, 2: 20, 3: None, 4: 40, 5: None, 6: 60}\n",
    "\n",
    "cleaned_dict = {}\n",
    "\n",
    "for k, v in input_dict.items():\n",
    "    if v is not None:\n",
    "        cleaned_dict[k] = v\n",
    "\n",
    "print(\"Dictionary with empty items dropped:\", cleaned_dict)\n"
   ]
  },
  {
   "cell_type": "code",
   "execution_count": 13,
   "id": "3a24531e-4752-4187-a9e1-f17450195d7a",
   "metadata": {},
   "outputs": [
    {
     "name": "stdout",
     "output_type": "stream",
     "text": [
      "Number of times 4 appears: 3\n"
     ]
    }
   ],
   "source": [
    "#1. Write a Python program to find the number of times 4 appears in the tuple.\n",
    "\n",
    "tuplex = (2, 4, 5, 6, 2, 3, 4, 4, 7)\n",
    "print(\"Number of times 4 appears:\", tuplex.count( 4))\n"
   ]
  },
  {
   "cell_type": "code",
   "execution_count": 15,
   "id": "8061af6c-c7df-429e-89a0-9aa5c582a64f",
   "metadata": {},
   "outputs": [
    {
     "name": "stdout",
     "output_type": "stream",
     "text": [
      "Tuple: (5, 10, 7, 4, 15, 3)\n"
     ]
    }
   ],
   "source": [
    "#2.Write a Python program to convert a list to a tuple.\n",
    "\n",
    "listx = [5, 10, 7, 4, 15, 3]\n",
    "print(\"Tuple:\", tuple(listx))\n"
   ]
  },
  {
   "cell_type": "code",
   "execution_count": 16,
   "id": "c9274a6e-04ac-4c87-856a-1602cc2865e3",
   "metadata": {},
   "outputs": [
    {
     "name": "stdout",
     "output_type": "stream",
     "text": [
      "Sum of tuple is: 21\n"
     ]
    }
   ],
   "source": [
    "#3. Write a Python program to calculate the sum of the numbers in a given tuple.\n",
    "\n",
    "tuples_list = [(1, 2), (3, 4), (5, 6)]\n",
    "\n",
    "total_sum = 0\n",
    "for tpl in tuples_list:\n",
    "    for num in tpl:\n",
    "        total_sum += num\n",
    "print(\"Sum of tuple is:\", total_sum)\n"
   ]
  },
  {
   "cell_type": "code",
   "execution_count": 17,
   "id": "eab3d036-745b-4d74-aa44-539f5f71ee90",
   "metadata": {},
   "outputs": [
    {
     "name": "stdout",
     "output_type": "stream",
     "text": [
      "Employee Records:\n",
      "\n",
      "Name: John Doe\n",
      "Employee ID: 101\n",
      "Department: Human Resources\n",
      "Salary: 60000\n",
      "\n",
      "Name: Alice Smith\n",
      "Employee ID: 102\n",
      "Department: Marketing\n",
      "Salary: 55000\n",
      "\n",
      "Name: Bob Johnson\n",
      "Employee ID: 103\n",
      "Department: Engineering\n",
      "Salary: 75000\n"
     ]
    }
   ],
   "source": [
    "#4.Write a python program and iterate the given tuples\n",
    "\n",
    "employee1 = (\"John Doe\", 101, \"Human Resources\", 60000)\n",
    "employee2 = (\"Alice Smith\", 102, \"Marketing\", 55000)\n",
    "employee3 = (\"Bob Johnson\", 103, \"Engineering\", 75000)\n",
    "\n",
    "employees = [employee1, employee2, employee3]\n",
    "\n",
    "print(\"Employee Records:\")\n",
    "for emp in employees:\n",
    "    print(\"\\nName:\", emp[0])\n",
    "    print(\"Employee ID:\", emp[1])\n",
    "    print(\"Department:\", emp[2])\n",
    "    print(\"Salary:\", emp[3])\n"
   ]
  },
  {
   "cell_type": "code",
   "execution_count": 18,
   "id": "b27489d5-5453-4f42-b00e-b0ec3a00a81a",
   "metadata": {},
   "outputs": [
    {
     "name": "stdout",
     "output_type": "stream",
     "text": [
      "Unique items: {10, 20, 70, 60}\n"
     ]
    }
   ],
   "source": [
    "# 1. Write a Python program to Get Only unique items from two sets.\n",
    "set1 = {10, 20, 30, 40, 50}\n",
    "set2 = {30, 40, 50, 60, 70}\n",
    "\n",
    "unique_items = set()\n",
    "\n",
    "for item in set1:\n",
    "    if item not in set2:\n",
    "        unique_items.add(item)\n",
    "\n",
    "for item in set2:\n",
    "    if item not in set1:\n",
    "        unique_items.add(item)\n",
    "\n",
    "print(\"Unique items:\", unique_items)\n"
   ]
  },
  {
   "cell_type": "code",
   "execution_count": 20,
   "id": "ba6395be-83b0-4216-862f-56318cad57e5",
   "metadata": {},
   "outputs": [
    {
     "name": "stdout",
     "output_type": "stream",
     "text": [
      "elements are: {10, 20, 70, 60}\n"
     ]
    }
   ],
   "source": [
    "#2. Write a Python program to Return a set of elements present in Set A or B, but not both.\n",
    "\n",
    "set1 = {10, 20, 30, 40, 50}\n",
    "set2 = {30, 40, 50, 60, 70}\n",
    "\n",
    "ele = set()\n",
    "\n",
    "for item in set1:\n",
    "    if item not in set2:\n",
    "        ele.add(item)\n",
    "\n",
    "for item in set2:\n",
    "    if item not in set1:\n",
    "        ele.add(item)\n",
    "\n",
    "print(\"elements are:\", ele)\n"
   ]
  },
  {
   "cell_type": "code",
   "execution_count": 21,
   "id": "6d3698de-2a35-4f46-83b8-c13f26352e2d",
   "metadata": {},
   "outputs": [
    {
     "name": "stdout",
     "output_type": "stream",
     "text": [
      "Common elements: {10}\n"
     ]
    }
   ],
   "source": [
    "#3. Write a Python program to Check if two sets have any elements in common. If yes, display the common elements.\n",
    "\n",
    "set1 = {10, 20, 30, 40, 50}\n",
    "set2 = {60, 70, 80, 90, 10}\n",
    "\n",
    "common_elements = set()\n",
    "for item in set1:\n",
    "    if item in set2:\n",
    "        common_elements.add(item)\n",
    "\n",
    "print(\"Common elements:\", common_elements)\n"
   ]
  },
  {
   "cell_type": "code",
   "execution_count": 22,
   "id": "2d03327e-e583-4ae3-9e9b-2f563ebeaa42",
   "metadata": {},
   "outputs": [
    {
     "name": "stdout",
     "output_type": "stream",
     "text": [
      "Items common to both sets: {40, 50, 30}\n"
     ]
    }
   ],
   "source": [
    "#4.  Write a Python program to Remove items from set1 that are not common to both set1 and set2.\n",
    "\n",
    "set1 = {10, 20, 30, 40, 50}\n",
    "set2 = {30, 40, 50, 60, 70}\n",
    "\n",
    "ele = set()\n",
    "\n",
    "for item in set1:\n",
    "    if item in set2:\n",
    "        ele.add(item)\n",
    "\n",
    "print(\"Items common to both sets:\", ele)\n"
   ]
  }
 ],
 "metadata": {
  "kernelspec": {
   "display_name": "Python 3 (ipykernel)",
   "language": "python",
   "name": "python3"
  },
  "language_info": {
   "codemirror_mode": {
    "name": "ipython",
    "version": 3
   },
   "file_extension": ".py",
   "mimetype": "text/x-python",
   "name": "python",
   "nbconvert_exporter": "python",
   "pygments_lexer": "ipython3",
   "version": "3.12.4"
  }
 },
 "nbformat": 4,
 "nbformat_minor": 5
}
