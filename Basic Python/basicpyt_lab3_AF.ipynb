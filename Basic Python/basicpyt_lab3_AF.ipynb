{
 "cells": [
  {
   "cell_type": "code",
   "execution_count": 20,
   "id": "5da7a355-d1b0-44ae-b50d-3132ab3afc22",
   "metadata": {},
   "outputs": [
    {
     "name": "stdout",
     "output_type": "stream",
     "text": [
      "division is :  2\n"
     ]
    }
   ],
   "source": [
    "#LAB3\n",
    "#1. Declare a div() function with two parameters. Then call the function and pass two numbers and display their division.\n",
    "def div(a,b):\n",
    "    print(\"division is : \",a//b)\n",
    "div(2,1)\n"
   ]
  },
  {
   "cell_type": "code",
   "execution_count": 21,
   "id": "30a53795-bcf6-4fa0-aa0c-d53ae0a2a8a1",
   "metadata": {},
   "outputs": [
    {
     "name": "stdout",
     "output_type": "stream",
     "text": [
      "SQUARE IS:  9\n"
     ]
    }
   ],
   "source": [
    "#2. Declare a square() function with one parameter.Then call the function and pass one number and display the square of that number .\n",
    "\n",
    "def square(A):\n",
    "    print(\"SQUARE IS: \",A**2)\n",
    "square(3)"
   ]
  },
  {
   "cell_type": "code",
   "execution_count": 22,
   "id": "ac412ecb-50c3-43e0-aa6f-3cb010db2cb5",
   "metadata": {},
   "outputs": [
    {
     "name": "stdout",
     "output_type": "stream",
     "text": [
      "max is:  9\n",
      "min is:  2\n"
     ]
    }
   ],
   "source": [
    "#3. Using max() and min() functions display the maximum and minimum of 5 random numbers.\n",
    "\n",
    "a,b,c,d,e=2,3,4,5,9\n",
    "print(\"max is: \",max(a,b,c,d,e))\n",
    "print(\"min is: \",min(a,b,c,d,e))"
   ]
  },
  {
   "cell_type": "code",
   "execution_count": 23,
   "id": "aae6a1e2-dd63-4b5a-a8d5-765877eac1d9",
   "metadata": {},
   "outputs": [
    {
     "name": "stdin",
     "output_type": "stream",
     "text": [
      "enter aapka naam SHREYA\n"
     ]
    },
    {
     "name": "stdout",
     "output_type": "stream",
     "text": [
      "shreya\n"
     ]
    }
   ],
   "source": [
    "#4. Accept a name from the user and display that in lower case using lower() function.\n",
    "\n",
    "nam=input(\"enter aapka naam\")\n",
    "nam=nam.lower()\n",
    "print(nam)"
   ]
  },
  {
   "cell_type": "code",
   "execution_count": 24,
   "id": "f8c5a6e7-44fa-4b4d-8e5e-b57469cd8ada",
   "metadata": {},
   "outputs": [
    {
     "name": "stdout",
     "output_type": "stream",
     "text": [
      "count of  To : 2\n",
      "count of  change : 2\n",
      "count of  the : 3\n",
      "count of  overall : 1\n",
      "count of  look : 2\n",
      "count of  of : 1\n",
      "count of  your : 1\n",
      "count of  document. : 1\n",
      "count of  To : 2\n",
      "count of  change : 2\n",
      "count of  the : 3\n",
      "count of  look : 2\n",
      "count of  available : 1\n",
      "count of  in : 1\n",
      "count of  the : 3\n",
      "count of  gallery : 1\n"
     ]
    }
   ],
   "source": [
    "#Write a Python program to count the occurrences of each word in a given sentence\n",
    "strig = \"To change the overall look of your document. To change the look available in the gallery\"\n",
    "strig=strig.split()\n",
    "for i in strig:\n",
    "    cou=strig.count(i)\n",
    "    print(\"count of \",i,\":\",cou)"
   ]
  },
  {
   "cell_type": "code",
   "execution_count": 25,
   "id": "422f6681-0db4-4c61-9684-7cdd0e73e1c4",
   "metadata": {},
   "outputs": [
    {
     "name": "stdout",
     "output_type": "stream",
     "text": [
      "Best Deeptech Python Training\n"
     ]
    }
   ],
   "source": [
    "#Write a Python program to remove a newline in Python\n",
    "nw=\"\\nBest \\nDeeptech \\nPython \\nTraining\\n\"\n",
    "nw=nw.replace('\\n','')\n",
    "print(nw)\n"
   ]
  },
  {
   "cell_type": "code",
   "execution_count": 26,
   "id": "7c4e4169-e488-4f83-b16c-7b0a93d3976f",
   "metadata": {},
   "outputs": [
    {
     "name": "stdout",
     "output_type": "stream",
     "text": [
      "gniniarT nohtyP hcetpeeD\n"
     ]
    }
   ],
   "source": [
    "#Write a Python program to reverse words in a string\n",
    "St = \"Deeptech Python Training\"\n",
    "print(St[::-1])\n"
   ]
  },
  {
   "cell_type": "code",
   "execution_count": 27,
   "id": "63a422d9-cbc0-4b1f-b5bc-06967a77f56c",
   "metadata": {},
   "outputs": [
    {
     "name": "stdout",
     "output_type": "stream",
     "text": [
      "Special charactera are:  4 \n",
      "letters are :  7 \n",
      "digits are :  3\n"
     ]
    }
   ],
   "source": [
    "#Write a Python program to Count all letters, digits, and special symbols from the given string\n",
    "Iput = \"P@#yn26at^&i5ve\"\n",
    "spclletter=['@','^','#','!','$','%','&','*']\n",
    "letters=['a','b','c','d','e','f','g','h','i','j','k','l','m','n','o','p','q','r','s','t','u','v','w','x','y','z','A','B','C','D','E','F','G','H','I','J','K','L','M','N','O','P']\n",
    "dig=['1','2','3','4','5','6','7','8','9','0']\n",
    "spc,d,l=0,0,0\n",
    "for i in range(0,len(Iput)-1):\n",
    "    if Iput[i] in spclletter:\n",
    "        spc+=1\n",
    "    elif Iput[i] in letters:\n",
    "        l+=1\n",
    "    elif Iput[i] in dig:\n",
    "        d+=1\n",
    "    i+=1\n",
    "print(\"Special charactera are: \",spc,\"\\nletters are : \",l,\"\\ndigits are : \",d)\n",
    "        "
   ]
  },
  {
   "cell_type": "code",
   "execution_count": 6,
   "id": "6972eb2e-6f9c-41c9-9f44-6122db1980c8",
   "metadata": {},
   "outputs": [
    {
     "name": "stdout",
     "output_type": "stream",
     "text": [
      "Input: String and String Function\n",
      "Output: String adFuco\n"
     ]
    }
   ],
   "source": [
    "#Write a Python program to remove duplicate characters of a given string.\n",
    "\n",
    "input_string = \"String and String Function\"\n",
    "output_string = \"\"\n",
    "\n",
    "for char in input_string:\n",
    "    if char not in output_string:\n",
    "        output_string += char\n",
    "\n",
    "print(\"Input:\", input_string)\n",
    "print(\"Output:\", output_string)\n"
   ]
  },
  {
   "cell_type": "code",
   "execution_count": 7,
   "id": "e2f77404-e2f3-4444-ba7b-2acdf5560f2a",
   "metadata": {},
   "outputs": [
    {
     "name": "stdout",
     "output_type": "stream",
     "text": [
      "UpperCase: 5\n",
      "LowerCase: 18\n",
      "NumberCase: 5\n",
      "Special Characters: 3\n"
     ]
    }
   ],
   "source": [
    "#Write a Python program to count Uppercase, Lowercase, special character and numeric values in a given string\n",
    "\n",
    "input_string = \"Hell0 W0rld ! 123 * # welcome to pYtHoN\"\n",
    "\n",
    "uppercase_count = 0\n",
    "lowercase_count = 0\n",
    "number_count = 0\n",
    "special_count = 0\n",
    "\n",
    "for char in input_string:\n",
    "    if char.isupper():\n",
    "        uppercase_count += 1\n",
    "    elif char.islower():\n",
    "        lowercase_count += 1\n",
    "    elif char.isdigit():\n",
    "        number_count += 1\n",
    "    elif not char.isspace():  # Exclude spaces from special characters count\n",
    "        special_count += 1\n",
    "\n",
    "print(\"UpperCase:\", uppercase_count)\n",
    "print(\"LowerCase:\", lowercase_count)\n",
    "print(\"NumberCase:\", number_count)\n",
    "print(\"Special Characters:\", special_count)\n"
   ]
  },
  {
   "cell_type": "code",
   "execution_count": 30,
   "id": "1d332e27-c4db-4345-b196-9f3c1fd7e6a2",
   "metadata": {},
   "outputs": [],
   "source": [
    "#Write a Python program to count and display the vowels of a given text\n",
    "text=\"Welcome to python Training\"\n",
    "text=text.split()\n",
    "coul={'a':0,'e':0,'i':0,'o':0,'u':0}\n",
    "for i in text:\n",
    "    coun=0\n",
    "    if(i=='a' or i=='e' or i=='o' or i=='u' or i=='i'):\n",
    "        coun=coun.count(i)\n",
    "        print(\"count of \", i,\":\",coun)"
   ]
  }
 ],
 "metadata": {
  "kernelspec": {
   "display_name": "Python 3 (ipykernel)",
   "language": "python",
   "name": "python3"
  },
  "language_info": {
   "codemirror_mode": {
    "name": "ipython",
    "version": 3
   },
   "file_extension": ".py",
   "mimetype": "text/x-python",
   "name": "python",
   "nbconvert_exporter": "python",
   "pygments_lexer": "ipython3",
   "version": "3.12.4"
  }
 },
 "nbformat": 4,
 "nbformat_minor": 5
}
