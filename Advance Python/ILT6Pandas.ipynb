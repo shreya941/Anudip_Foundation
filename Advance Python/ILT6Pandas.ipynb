{
 "cells": [
  {
   "cell_type": "code",
   "execution_count": 1,
   "id": "7ef296a6-56a6-40ca-886d-842ee334222c",
   "metadata": {},
   "outputs": [],
   "source": [
    "import pandas as pd"
   ]
  },
  {
   "cell_type": "code",
   "execution_count": 8,
   "id": "739d0928-ee49-4328-9abb-f44de68ba681",
   "metadata": {},
   "outputs": [
    {
     "name": "stdout",
     "output_type": "stream",
     "text": [
      "Alice      92\n",
      "Bob        88\n",
      "Charlie    76\n",
      "David      94\n",
      "Eve        82\n",
      "Frank      90\n",
      "Grace      85\n",
      "Hannah     89\n",
      "Ivy        78\n",
      "Jack       91\n",
      "Name: Exam Scores, dtype: int64\n"
     ]
    }
   ],
   "source": [
    "#Lab1: Suppose you are a teacher, and you want to analyze the exam scores of your students in a particular subject. You have recorded the scores of your students for a recent exam, and you want to represent this data using a Pandas Series.\n",
    "\n",
    "students = ['Alice', 'Bob', 'Charlie', 'David', 'Eve', 'Frank', 'Grace', 'Hannah', 'Ivy', 'Jack']\n",
    "exam_scores = [92, 88, 76, 94, 82, 90, 85, 89, 78, 91]\n",
    "ser=pd.Series(exam_scores,students,name=\"Exam Scores\")\n",
    "print(ser)"
   ]
  },
  {
   "cell_type": "code",
   "execution_count": 9,
   "id": "96321d11-c85b-465e-a0cb-bd5944e4fd8e",
   "metadata": {},
   "outputs": [
    {
     "data": {
      "text/plain": [
       "Groceries          500\n",
       "Utilities          200\n",
       "Rent              1200\n",
       "Transportation     300\n",
       "Entertainment      150\n",
       "Name: Monthly Expenses(USD), dtype: int64"
      ]
     },
     "execution_count": 9,
     "metadata": {},
     "output_type": "execute_result"
    }
   ],
   "source": [
    "#Lab2: Suppose you want to track and analyze your household expenses for a month. You have recorded the expenses for various categories, such as groceries, utilities, rent, transportation, and entertainment. You can represent this expense data using a Pandas Series.\n",
    "\n",
    "# Expense categories\n",
    "categories = ['Groceries', 'Utilities', 'Rent', 'Transportation', 'Entertainment']\n",
    "# Monthly expense data (example data in USD)\n",
    "expenses = [500, 200, 1200, 300, 150]\n",
    "pd.Series(expenses,categories,name=\"Monthly Expenses(USD)\")"
   ]
  },
  {
   "cell_type": "code",
   "execution_count": 12,
   "id": "b4edb3df-eddd-41ce-98be-b484df68fa66",
   "metadata": {},
   "outputs": [
    {
     "name": "stdout",
     "output_type": "stream",
     "text": [
      "Electricity usage \n",
      "January      350\n",
      "February     320\n",
      "March        310\n",
      "April        330\n",
      "May          340\n",
      "June         370\n",
      "July         380\n",
      "August       360\n",
      "September    350\n",
      "October      330\n",
      "November     320\n",
      "December     330\n",
      "Name: Electricity usage kwh, dtype: int64\n",
      "Gas usage \n"
     ]
    },
    {
     "data": {
      "text/plain": [
       "January      20\n",
       "February     18\n",
       "March        16\n",
       "April        15\n",
       "May          12\n",
       "June         10\n",
       "July          8\n",
       "August        9\n",
       "September    12\n",
       "October      15\n",
       "November     17\n",
       "December     19\n",
       "Name: Gas usage therms, dtype: int64"
      ]
     },
     "execution_count": 12,
     "metadata": {},
     "output_type": "execute_result"
    }
   ],
   "source": [
    "#Lab3: Suppose you want to track and analyze the monthly energy consumption in your home. You have recorded the monthly energy usage for electricity and gas over a year, and you want to represent this data using Pandas Series.\n",
    "\n",
    "# Months in a year\n",
    "months = ['January', 'February', 'March', 'April', 'May', 'June', 'July', 'August','September', 'October', 'November', 'December']\n",
    "\n",
    "# Monthly energy consumption data (example data in kilowatt-hours for electricity andtherms for gas)\n",
    "electricity_usage = [350, 320, 310, 330, 340, 370, 380, 360, 350, 330, 320, 330]\n",
    "gas_usage = [20, 18, 16, 15, 12, 10, 8, 9, 12, 15, 17, 19]\n",
    "print(\"Electricity usage \")\n",
    "print(pd.Series(electricity_usage,months,name=\"Electricity usage kwh\"))\n",
    "print(\"Gas usage \")\n",
    "pd.Series(gas_usage,months,name=\"Gas usage therms\")\n"
   ]
  },
  {
   "cell_type": "code",
   "execution_count": 13,
   "id": "b7c0c0ce-12c9-4253-b41e-9e1cd9bc3fcd",
   "metadata": {},
   "outputs": [
    {
     "data": {
      "text/plain": [
       "January      5000\n",
       "February     5200\n",
       "March        4800\n",
       "April        5400\n",
       "May          5600\n",
       "June         5800\n",
       "July         6100\n",
       "August       5900\n",
       "September    6200\n",
       "October      6500\n",
       "November     7000\n",
       "December     6900\n",
       "Name: Monthly advertising revenue USD, dtype: int64"
      ]
     },
     "execution_count": 13,
     "metadata": {},
     "output_type": "execute_result"
    }
   ],
   "source": [
    "#Lab4:Suppose you are managing a website and want to analyze the monthly revenue generated from advertising. You have recorded the monthly revenue for the past year, and you want to represent this data using a Pandas Series.\n",
    "\n",
    "# Months in a year\n",
    "months = ['January', 'February', 'March', 'April', 'May', 'June', 'July', 'August','September', 'October', 'November', 'December']\n",
    "\n",
    "# Monthly advertising revenue data (example data in USD)\n",
    "revenue = [5000, 5200, 4800, 5400, 5600, 5800, 6100, 5900, 6200, 6500, 7000, 6900]\n",
    "\n",
    "pd.Series(revenue,months,name=\"Monthly advertising revenue USD\")"
   ]
  },
  {
   "cell_type": "code",
   "execution_count": 15,
   "id": "364180dd-e366-4f6e-9848-099733d4154b",
   "metadata": {},
   "outputs": [
    {
     "name": "stdout",
     "output_type": "stream",
     "text": [
      "   Math  English  Hindi\n",
      "0    78       84     86\n",
      "1    85       94     97\n",
      "2    96       89     96\n",
      "3    80       83     72\n",
      "4    86       86     83\n"
     ]
    }
   ],
   "source": [
    "#Lab1: Write a Pandas program to create a dataframe from a dictionary and display it.\n",
    "\n",
    "score={'Math':[78,85,96,80,86], 'English':[84,94,89,83,86],'Hindi':[86,97,96,72,83]}\n",
    "df=pd.DataFrame(score)\n",
    "print(df)"
   ]
  },
  {
   "cell_type": "code",
   "execution_count": 17,
   "id": "3fe66617-9092-4096-b8d0-6bf46ebfea29",
   "metadata": {},
   "outputs": [
    {
     "name": "stdout",
     "output_type": "stream",
     "text": [
      "        name  score  attempts qualify\n",
      "0  Anastasia   12.5         1     yes\n",
      "1       Dima    9.0         3      no\n",
      "2  Katherine   16.5         2     yes\n",
      "3      James    NaN         3      no\n",
      "4      Emily    9.0         2      no\n",
      "5    Michael   20.0         3     yes\n",
      "6    Matthew   14.5         1     yes\n",
      "7      Laura    NaN         1      no\n",
      "8      Kevin    8.0         2      no\n",
      "9      Jonas   19.0         1     yes\n"
     ]
    }
   ],
   "source": [
    "#Lab2: Write a Pandas program to create and display a DataFrame from a specified dictionary data which has the index labels.\n",
    "import numpy as np\n",
    "exam_data = {\n",
    "    'name': ['Anastasia', 'Dima', 'Katherine', 'James', 'Emily','Michael', 'Matthew', 'Laura', 'Kevin', 'Jonas'],\n",
    "    'score': [12.5, 9, 16.5, np.nan, 9, 20, 14.5, np.nan, 8, 19],\n",
    "    'attempts': [1, 3, 2, 3, 2, 3, 1, 1, 2, 1],\n",
    "    'qualify': ['yes', 'no', 'yes', 'no', 'no', 'yes', 'yes', 'no', 'no', 'yes']\n",
    "}\n",
    "df=pd.DataFrame(exam_data)\n",
    "print(df)"
   ]
  },
  {
   "cell_type": "code",
   "execution_count": 19,
   "id": "738802e7-1a09-4890-bf1c-f34d983daafd",
   "metadata": {},
   "outputs": [
    {
     "name": "stdout",
     "output_type": "stream",
     "text": [
      "The first 3 rows  are :\n",
      "         name  score  attempts qualify\n",
      "0  Anastasia   12.5         1     yes\n",
      "1       Dima    9.0         3      no\n",
      "2  Katherine   16.5         2     yes\n"
     ]
    }
   ],
   "source": [
    "#Lab3: Write a Pandas program to get the first 3 rows of a given DataFrame.\n",
    "\n",
    "exam_data = {\n",
    "    'name': ['Anastasia', 'Dima', 'Katherine', 'James', 'Emily','Michael', 'Matthew', 'Laura', 'Kevin', 'Jonas'],\n",
    "    'score': [12.5, 9, 16.5, np.nan, 9, 20, 14.5, np.nan, 8, 19],\n",
    "    'attempts': [1, 3, 2, 3, 2, 3, 1, 1, 2, 1],\n",
    "    'qualify': ['yes', 'no', 'yes', 'no', 'no', 'yes', 'yes', 'no', 'no', 'yes']\n",
    "}\n",
    "df=pd.DataFrame(exam_data)\n",
    "print(\"The first 3 rows  are :\\n\",df.head(3))"
   ]
  },
  {
   "cell_type": "code",
   "execution_count": 27,
   "id": "38c50611-3e6c-47ef-9512-1b3317402fe4",
   "metadata": {},
   "outputs": [
    {
     "name": "stdout",
     "output_type": "stream",
     "text": [
      "Original data :\n",
      "         name  score  attempts qualify\n",
      "0  Anastasia   12.5         1     yes\n",
      "1       Dima    9.0         3      no\n",
      "2  Katherine   16.5         2     yes\n",
      "3      James    NaN         3      no\n",
      "4      Emily    9.0         2      no\n",
      "5    Michael   20.0         3     yes\n",
      "6    Matthew   14.5         1     yes\n",
      "7      Laura    NaN         1      no\n",
      "8      Kevin    8.0         2      no\n",
      "9      Jonas   19.0         1     yes\n"
     ]
    },
    {
     "ename": "KeyError",
     "evalue": "('name', 'score')",
     "output_type": "error",
     "traceback": [
      "\u001b[1;31m---------------------------------------------------------------------------\u001b[0m",
      "\u001b[1;31mKeyError\u001b[0m                                  Traceback (most recent call last)",
      "File \u001b[1;32m~\\AppData\\Local\\Programs\\Python\\Python312\\Lib\\site-packages\\pandas\\core\\indexes\\base.py:3805\u001b[0m, in \u001b[0;36mIndex.get_loc\u001b[1;34m(self, key)\u001b[0m\n\u001b[0;32m   3804\u001b[0m \u001b[38;5;28;01mtry\u001b[39;00m:\n\u001b[1;32m-> 3805\u001b[0m     \u001b[38;5;28;01mreturn\u001b[39;00m \u001b[38;5;28;43mself\u001b[39;49m\u001b[38;5;241;43m.\u001b[39;49m\u001b[43m_engine\u001b[49m\u001b[38;5;241;43m.\u001b[39;49m\u001b[43mget_loc\u001b[49m\u001b[43m(\u001b[49m\u001b[43mcasted_key\u001b[49m\u001b[43m)\u001b[49m\n\u001b[0;32m   3806\u001b[0m \u001b[38;5;28;01mexcept\u001b[39;00m \u001b[38;5;167;01mKeyError\u001b[39;00m \u001b[38;5;28;01mas\u001b[39;00m err:\n",
      "File \u001b[1;32mindex.pyx:167\u001b[0m, in \u001b[0;36mpandas._libs.index.IndexEngine.get_loc\u001b[1;34m()\u001b[0m\n",
      "File \u001b[1;32mindex.pyx:196\u001b[0m, in \u001b[0;36mpandas._libs.index.IndexEngine.get_loc\u001b[1;34m()\u001b[0m\n",
      "File \u001b[1;32mpandas\\\\_libs\\\\hashtable_class_helper.pxi:7081\u001b[0m, in \u001b[0;36mpandas._libs.hashtable.PyObjectHashTable.get_item\u001b[1;34m()\u001b[0m\n",
      "File \u001b[1;32mpandas\\\\_libs\\\\hashtable_class_helper.pxi:7089\u001b[0m, in \u001b[0;36mpandas._libs.hashtable.PyObjectHashTable.get_item\u001b[1;34m()\u001b[0m\n",
      "\u001b[1;31mKeyError\u001b[0m: ('name', 'score')",
      "\nThe above exception was the direct cause of the following exception:\n",
      "\u001b[1;31mKeyError\u001b[0m                                  Traceback (most recent call last)",
      "Cell \u001b[1;32mIn[27], line 12\u001b[0m\n\u001b[0;32m     10\u001b[0m df\u001b[38;5;241m=\u001b[39mpd\u001b[38;5;241m.\u001b[39mDataFrame(exam_data)\n\u001b[0;32m     11\u001b[0m \u001b[38;5;28mprint\u001b[39m(\u001b[38;5;124m\"\u001b[39m\u001b[38;5;124mOriginal data :\u001b[39m\u001b[38;5;130;01m\\n\u001b[39;00m\u001b[38;5;124m\"\u001b[39m,df)\n\u001b[1;32m---> 12\u001b[0m \u001b[38;5;28mprint\u001b[39m(\u001b[38;5;124m\"\u001b[39m\u001b[38;5;124mSelected data :\u001b[39m\u001b[38;5;130;01m\\n\u001b[39;00m\u001b[38;5;124m\"\u001b[39m,\u001b[43mdf\u001b[49m\u001b[43m[\u001b[49m\u001b[38;5;124;43m'\u001b[39;49m\u001b[38;5;124;43mname\u001b[39;49m\u001b[38;5;124;43m'\u001b[39;49m\u001b[43m,\u001b[49m\u001b[38;5;124;43m'\u001b[39;49m\u001b[38;5;124;43mscore\u001b[39;49m\u001b[38;5;124;43m'\u001b[39;49m\u001b[43m]\u001b[49m)\n",
      "File \u001b[1;32m~\\AppData\\Local\\Programs\\Python\\Python312\\Lib\\site-packages\\pandas\\core\\frame.py:4102\u001b[0m, in \u001b[0;36mDataFrame.__getitem__\u001b[1;34m(self, key)\u001b[0m\n\u001b[0;32m   4100\u001b[0m \u001b[38;5;28;01mif\u001b[39;00m \u001b[38;5;28mself\u001b[39m\u001b[38;5;241m.\u001b[39mcolumns\u001b[38;5;241m.\u001b[39mnlevels \u001b[38;5;241m>\u001b[39m \u001b[38;5;241m1\u001b[39m:\n\u001b[0;32m   4101\u001b[0m     \u001b[38;5;28;01mreturn\u001b[39;00m \u001b[38;5;28mself\u001b[39m\u001b[38;5;241m.\u001b[39m_getitem_multilevel(key)\n\u001b[1;32m-> 4102\u001b[0m indexer \u001b[38;5;241m=\u001b[39m \u001b[38;5;28;43mself\u001b[39;49m\u001b[38;5;241;43m.\u001b[39;49m\u001b[43mcolumns\u001b[49m\u001b[38;5;241;43m.\u001b[39;49m\u001b[43mget_loc\u001b[49m\u001b[43m(\u001b[49m\u001b[43mkey\u001b[49m\u001b[43m)\u001b[49m\n\u001b[0;32m   4103\u001b[0m \u001b[38;5;28;01mif\u001b[39;00m is_integer(indexer):\n\u001b[0;32m   4104\u001b[0m     indexer \u001b[38;5;241m=\u001b[39m [indexer]\n",
      "File \u001b[1;32m~\\AppData\\Local\\Programs\\Python\\Python312\\Lib\\site-packages\\pandas\\core\\indexes\\base.py:3812\u001b[0m, in \u001b[0;36mIndex.get_loc\u001b[1;34m(self, key)\u001b[0m\n\u001b[0;32m   3807\u001b[0m     \u001b[38;5;28;01mif\u001b[39;00m \u001b[38;5;28misinstance\u001b[39m(casted_key, \u001b[38;5;28mslice\u001b[39m) \u001b[38;5;129;01mor\u001b[39;00m (\n\u001b[0;32m   3808\u001b[0m         \u001b[38;5;28misinstance\u001b[39m(casted_key, abc\u001b[38;5;241m.\u001b[39mIterable)\n\u001b[0;32m   3809\u001b[0m         \u001b[38;5;129;01mand\u001b[39;00m \u001b[38;5;28many\u001b[39m(\u001b[38;5;28misinstance\u001b[39m(x, \u001b[38;5;28mslice\u001b[39m) \u001b[38;5;28;01mfor\u001b[39;00m x \u001b[38;5;129;01min\u001b[39;00m casted_key)\n\u001b[0;32m   3810\u001b[0m     ):\n\u001b[0;32m   3811\u001b[0m         \u001b[38;5;28;01mraise\u001b[39;00m InvalidIndexError(key)\n\u001b[1;32m-> 3812\u001b[0m     \u001b[38;5;28;01mraise\u001b[39;00m \u001b[38;5;167;01mKeyError\u001b[39;00m(key) \u001b[38;5;28;01mfrom\u001b[39;00m \u001b[38;5;21;01merr\u001b[39;00m\n\u001b[0;32m   3813\u001b[0m \u001b[38;5;28;01mexcept\u001b[39;00m \u001b[38;5;167;01mTypeError\u001b[39;00m:\n\u001b[0;32m   3814\u001b[0m     \u001b[38;5;66;03m# If we have a listlike key, _check_indexing_error will raise\u001b[39;00m\n\u001b[0;32m   3815\u001b[0m     \u001b[38;5;66;03m#  InvalidIndexError. Otherwise we fall through and re-raise\u001b[39;00m\n\u001b[0;32m   3816\u001b[0m     \u001b[38;5;66;03m#  the TypeError.\u001b[39;00m\n\u001b[0;32m   3817\u001b[0m     \u001b[38;5;28mself\u001b[39m\u001b[38;5;241m.\u001b[39m_check_indexing_error(key)\n",
      "\u001b[1;31mKeyError\u001b[0m: ('name', 'score')"
     ]
    }
   ],
   "source": [
    "#Lab4: Write a Pandas program to select the 'name' and 'score' columns from the following DataFrame.\n",
    "\n",
    "exam_data = {\n",
    "    'name': ['Anastasia', 'Dima', 'Katherine', 'James', 'Emily','Michael', 'Matthew', 'Laura', 'Kevin', 'Jonas'],\n",
    "    'score': [12.5, 9, 16.5, np.nan, 9, 20, 14.5, np.nan, 8, 19],\n",
    "    'attempts': [1, 3, 2, 3, 2, 3, 1, 1, 2, 1],\n",
    "    'qualify': ['yes', 'no', 'yes', 'no', 'no', 'yes', 'yes', 'no', 'no', 'yes']\n",
    "}\n",
    "\n",
    "df=pd.DataFrame(exam_data)\n",
    "print(\"Original data :\\n\",df)\n",
    "print(\"Selected data :\\n\",df['name','score'])"
   ]
  }
 ],
 "metadata": {
  "kernelspec": {
   "display_name": "Python 3 (ipykernel)",
   "language": "python",
   "name": "python3"
  },
  "language_info": {
   "codemirror_mode": {
    "name": "ipython",
    "version": 3
   },
   "file_extension": ".py",
   "mimetype": "text/x-python",
   "name": "python",
   "nbconvert_exporter": "python",
   "pygments_lexer": "ipython3",
   "version": "3.12.4"
  }
 },
 "nbformat": 4,
 "nbformat_minor": 5
}
