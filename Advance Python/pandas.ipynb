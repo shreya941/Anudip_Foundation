{
 "cells": [
  {
   "cell_type": "code",
   "execution_count": 8,
   "id": "79a193bf-cce9-4192-b35b-c890df21af0e",
   "metadata": {
    "scrolled": true
   },
   "outputs": [
    {
     "name": "stdout",
     "output_type": "stream",
     "text": [
      "JANUARY      233\n",
      "FEBRUARY      21\n",
      "MARCH         22\n",
      "APRIL         25\n",
      "MAY           66\n",
      "JUNE          77\n",
      "JULY          33\n",
      "AUGUST        55\n",
      "SEPTEMBER    888\n",
      "OCT           43\n",
      "NOV           11\n",
      "DEC           12\n",
      "Name: sales per month, dtype: int64\n"
     ]
    }
   ],
   "source": [
    "import pandas as pd\n",
    "\n",
    "#SERIES\n",
    "\n",
    "#months\n",
    "mon=['JANUARY','FEBRUARY','MARCH','APRIL','MAY','JUNE','JULY','AUGUST','SEPTEMBER','OCT','NOV','DEC']\n",
    "sales=[233,21,22,25,66,77,33,55,888,43,11,12]\n",
    "ser=pd.Series(sales,index=mon,name=\"sales per month\",dtype='int')\n",
    "print(ser)"
   ]
  },
  {
   "cell_type": "code",
   "execution_count": 9,
   "id": "832c8a42-7f7e-4029-be68-2127bdb8cbbf",
   "metadata": {},
   "outputs": [
    {
     "name": "stdout",
     "output_type": "stream",
     "text": [
      "      name  age      cty\n",
      "0    alice   25      nyc\n",
      "1      bob   22       la\n",
      "2  charlie   34  chicago\n",
      "3    david   35  houston\n"
     ]
    }
   ],
   "source": [
    "data={'name':['alice','bob','charlie','david'],\n",
    "      'age':[25,22,34,35],\n",
    "      'cty':['nyc','la','chicago','houston']\n",
    "     }\n",
    "df=pd.DataFrame(data)\n",
    "print(df)"
   ]
  },
  {
   "cell_type": "code",
   "execution_count": 16,
   "id": "e0b62e88-632f-4908-8454-fff342d0c387",
   "metadata": {},
   "outputs": [
    {
     "name": "stdout",
     "output_type": "stream",
     "text": [
      "before addding\n",
      "      name  age\n",
      "0    alice   25\n",
      "1      bob   22\n",
      "2  charlie   34\n",
      "3    david   35\n",
      "after\n",
      "      name  age      cty\n",
      "0    alice   25      nyc\n",
      "1      bob   22       la\n",
      "2  charlie   34  chicago\n",
      "3    david   35  houston\n"
     ]
    }
   ],
   "source": [
    "data={'name':['alice','bob','charlie','david'],\n",
    "      'age':[25,22,34,35],\n",
    "     }\n",
    "df=pd.DataFrame(data)\n",
    "print(\"before addding\")\n",
    "print(df)\n",
    "df[ 'cty']=['nyc','la','chicago','houston']\n",
    "print(\"after\")\n",
    "print(df)\n"
   ]
  },
  {
   "cell_type": "code",
   "execution_count": 19,
   "id": "cb2a9e3a-22d7-47a3-af8b-9b8173d81c0f",
   "metadata": {},
   "outputs": [
    {
     "name": "stdout",
     "output_type": "stream",
     "text": [
      "      name  age      cty\n",
      "0    alice   25      nyc\n",
      "1      bob   22       la\n",
      "2  charlie   34  chicago\n",
      "3    david   35  houston\n",
      "      name  age      cty gender grade\n",
      "0    alice   25      nyc      f     a\n",
      "1      bob   22       la      m     b\n",
      "2  charlie   34  chicago      f     a\n",
      "3    david   35  houston      m     c\n",
      "      name  age  marks      cty gender grade\n",
      "0    alice   25     24      nyc      f     a\n",
      "1      bob   22     23       la      m     b\n",
      "2  charlie   34     25  chicago      f     a\n",
      "3    david   35     21  houston      m     c\n"
     ]
    }
   ],
   "source": [
    "data={'name':['alice','bob','charlie','david'],\n",
    "      'age':[25,22,34,35],\n",
    "      'cty':['nyc','la','chicago','houston']\n",
    "     }\n",
    "df=pd.DataFrame(data)\n",
    "print(df)\n",
    "\n",
    "#new columns to be added\n",
    "newcol={'gender':['f','m','f','m'],'grade':['a','b','a','c']}\n",
    "df['gender']=newcol['gender']\n",
    "df['grade']=newcol['grade']\n",
    "print(df)\n",
    "\n",
    "#inserting column using insert function \n",
    "df.insert(2,'marks',[24,23,25,21])\n",
    "print(df)"
   ]
  },
  {
   "cell_type": "code",
   "execution_count": 22,
   "id": "1b7523c6-6fe4-4446-b8c5-5b1857ad2aab",
   "metadata": {},
   "outputs": [
    {
     "name": "stdout",
     "output_type": "stream",
     "text": [
      "initial df\n",
      "      name  age      cty\n",
      "0    alice   25      nyc\n",
      "1      bob   22       la\n",
      "2  charlie   34  chicago\n",
      "3    david   35  houston\n",
      "        name      age      cty\n",
      "0  shreyaaaa  sweet21  Karachi\n",
      "        name      age      cty\n",
      "0      alice       25      nyc\n",
      "1        bob       22       la\n",
      "2    charlie       34  chicago\n",
      "3      david       35  houston\n",
      "4  shreyaaaa  sweet21  Karachi\n"
     ]
    }
   ],
   "source": [
    "data={'name':['alice','bob','charlie','david'],\n",
    "      'age':[25,22,34,35],\n",
    "      'cty':['nyc','la','chicago','houston']\n",
    "     }\n",
    "df=pd.DataFrame(data)\n",
    "print(\"initial df\")\n",
    "print(df)\n",
    "\n",
    "#adding new row to the df\n",
    "\n",
    "row=pd.DataFrame([{'name':'shreyaaaa','age':'sweet21','cty':'Karachi'}])\n",
    "print(row)\n",
    "\n",
    "# adding row\n",
    "\n",
    "df=pd.concat([df,row],ignore_index=True)\n",
    "\n",
    "print(df)\n"
   ]
  },
  {
   "cell_type": "code",
   "execution_count": 26,
   "id": "03133d2a-f703-474e-b4a4-d746a48dd4e9",
   "metadata": {},
   "outputs": [
    {
     "name": "stdout",
     "output_type": "stream",
     "text": [
      "initial df\n",
      "      name  age      cty\n",
      "0   yahika   25      nyc\n",
      "1   shreya   22       la\n",
      "2  charlie   34  chicago\n",
      "3    david   35  houston\n",
      "        name  age      cty\n",
      "0     yahika   25      nyc\n",
      "1     shreya   22       la\n",
      "2    charlie   34  chicago\n",
      "3  shreyaaaa   21  Karachi\n"
     ]
    }
   ],
   "source": [
    "data={'name':['yahika','shreya','charlie','david'],\n",
    "      'age':[25,22,34,35],\n",
    "      'cty':['nyc','la','chicago','houston']\n",
    "     }\n",
    "df=pd.DataFrame(data)\n",
    "print(\"initial df\")\n",
    "print(df)\n",
    "\n",
    "\n",
    "row={'name':'shreyaaaa','age':21,'cty':'Karachi'}\n",
    "\n",
    "inx=3\n",
    "\n",
    "df.loc[inx]=row\n",
    "print(df)"
   ]
  },
  {
   "cell_type": "code",
   "execution_count": 33,
   "id": "a1a0bdb1-7120-4ee2-a0f3-cbb5fa345b74",
   "metadata": {},
   "outputs": [
    {
     "name": "stdout",
     "output_type": "stream",
     "text": [
      "initial df\n",
      "      NAME  age      cty\n",
      "0   yahika   25      nyc\n",
      "1   shreya   22       la\n",
      "2  charlie   34  chicago\n",
      "3    david   35  houston\n",
      "      NAME  marks      cty\n",
      "0   yahika     25      nyc\n",
      "1   shreya     22       la\n",
      "2  charlie     34  chicago\n",
      "3    david     35  houston\n",
      "      name  marks      cty\n",
      "0   yahika     25      nyc\n",
      "1   shreya     22       la\n",
      "2  charlie     34  chicago\n",
      "3    david     35  houston\n"
     ]
    }
   ],
   "source": [
    "data={'NAME':['yahika','shreya','charlie','david'],\n",
    "      'age':[25,22,34,35],\n",
    "      'cty':['nyc','la','chicago','houston']\n",
    "     }\n",
    "df=pd.DataFrame(data)\n",
    "print(\"initial df\")\n",
    "print(df)\n",
    "\n",
    "#updating the column name\n",
    "\n",
    "df=df.rename(columns ={'age':'marks'})\n",
    "print(df)\n",
    "\n",
    "#changing to lowercase of columne name\n",
    "\n",
    "df.columns=df.columns.str.lower()\n",
    "print(df)"
   ]
  },
  {
   "cell_type": "code",
   "execution_count": 42,
   "id": "edf400ba-0fb9-4e68-9591-cce234c9f0c8",
   "metadata": {},
   "outputs": [
    {
     "name": "stdout",
     "output_type": "stream",
     "text": [
      "print the value at 2nd row\n",
      "name     shreya\n",
      "marks        22\n",
      "cty          la\n",
      "Name: 1, dtype: object\n",
      "value of marks in 3rd col\n",
      "marks    35\n",
      "Name: 3, dtype: object\n"
     ]
    }
   ],
   "source": [
    "print(\"print the value at 2nd row\")\n",
    "print(df.loc[1])\n",
    "\n",
    "print(\"value of marks in 3rd col\")\n",
    "print(df.loc[3,['marks']])"
   ]
  },
  {
   "cell_type": "code",
   "execution_count": 44,
   "id": "955c1675-704b-4976-bba8-da1c703f0dbb",
   "metadata": {},
   "outputs": [
    {
     "name": "stdout",
     "output_type": "stream",
     "text": [
      "      name  marks      cty    Remarks\n",
      "0   yahika     25      nyc       okok\n",
      "1   shreya     22       la       okok\n",
      "2  charlie     34  chicago  very good\n",
      "3    david     35  houston  very good\n"
     ]
    }
   ],
   "source": [
    "df.loc[df['marks']>25, 'Remarks']='very good'\n",
    "df.loc[df['marks']<=25, 'Remarks']='okok'\n",
    "print(df)\n"
   ]
  }
 ],
 "metadata": {
  "kernelspec": {
   "display_name": "Python 3 (ipykernel)",
   "language": "python",
   "name": "python3"
  },
  "language_info": {
   "codemirror_mode": {
    "name": "ipython",
    "version": 3
   },
   "file_extension": ".py",
   "mimetype": "text/x-python",
   "name": "python",
   "nbconvert_exporter": "python",
   "pygments_lexer": "ipython3",
   "version": "3.12.4"
  }
 },
 "nbformat": 4,
 "nbformat_minor": 5
}
