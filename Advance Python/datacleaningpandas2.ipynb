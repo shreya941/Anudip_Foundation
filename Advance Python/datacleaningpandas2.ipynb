{
 "cells": [
  {
   "cell_type": "code",
   "execution_count": 12,
   "id": "c3c7f95a-70f5-4033-8e6f-64722f591f80",
   "metadata": {},
   "outputs": [
    {
     "name": "stdout",
     "output_type": "stream",
     "text": [
      "Mean :11.4 \n",
      "median :  12.0\n",
      "mode :  10\n"
     ]
    }
   ],
   "source": [
    "import pandas as pd\n",
    "data = {\n",
    "    'empid': [1, 1, 3, 4, 5],\n",
    "    'name': ['sh', 'sh', 'ya', 'di', 'xit'],\n",
    "    'age': [10, 10, 12, 12, 13],\n",
    "    'pic': ['p1', 'p1', 'p3', 'p4', 'p5'],\n",
    "    'piic': ['p1', 'p1', 'p2', 'p4', 'p5'],\n",
    "    'na': [\"\", \"\", \"\", \"\", \"\"]\n",
    "}\n",
    "df = pd.DataFrame(data)\n",
    "d=df.to_csv(\"stu.csv\")\n",
    "d=pd.read_csv(\"stu.csv\")\n",
    "mean=d['age'].mean()\n",
    "print(f\"Mean :{mean} \")\n",
    "print(\"median : \",d['age'].median())\n",
    "print(\"mode : \",d['age'].mode().iloc[0])"
   ]
  },
  {
   "cell_type": "code",
   "execution_count": 14,
   "id": "c31f4e0f-933e-48b6-8f29-c4677caa9f2a",
   "metadata": {},
   "outputs": [
    {
     "name": "stdout",
     "output_type": "stream",
     "text": [
      "[10 12 13]\n",
      "3\n"
     ]
    }
   ],
   "source": [
    "uniq=d['age'].unique()\n",
    "print(\"unique values are : \",uniq)\n",
    "uniqn=d['age'].nunique()\n",
    "print(\"total unique values are : \",uniqn)"
   ]
  },
  {
   "cell_type": "code",
   "execution_count": 16,
   "id": "d7474338-1289-4422-87ec-3e18a2c49c2a",
   "metadata": {},
   "outputs": [
    {
     "name": "stdout",
     "output_type": "stream",
     "text": [
      "after descending sorting :     Unnamed: 0  empid name  age pic piic  na\n",
      "2           2      3   ya   12  p3   p2 NaN\n",
      "0           0      1   sh   10  p1   p1 NaN\n",
      "1           1      1   sh   10  p1   p1 NaN\n"
     ]
    }
   ],
   "source": [
    "print(\"after descending sorting : \",d.sort_values(by=['age'],ascending=False).tail(3))"
   ]
  },
  {
   "cell_type": "code",
   "execution_count": 17,
   "id": "4037f6fe-0912-4e02-a5f7-f858957c53d0",
   "metadata": {},
   "outputs": [
    {
     "name": "stdout",
     "output_type": "stream",
     "text": [
      "largest 3 values :    Unnamed: 0  empid name  age pic piic  na\n",
      "4           4      5  xit   13  p5   p5 NaN\n",
      "2           2      3   ya   12  p3   p2 NaN\n",
      "3           3      4   di   12  p4   p4 NaN\n"
     ]
    }
   ],
   "source": [
    "print(\"largest 3 values :\",d.nlargest(3,['age']).head())"
   ]
  },
  {
   "cell_type": "code",
   "execution_count": 22,
   "id": "071899b8-2d03-4e7c-8fa6-cc21ee3e83f3",
   "metadata": {},
   "outputs": [
    {
     "name": "stdout",
     "output_type": "stream",
     "text": [
      "name\n",
      "di     12\n",
      "sh     20\n",
      "xit    13\n",
      "ya     12\n",
      "Name: age, dtype: int64\n"
     ]
    }
   ],
   "source": [
    "print(d['age'].groupby(d['name']).sum())"
   ]
  }
 ],
 "metadata": {
  "kernelspec": {
   "display_name": "Python 3 (ipykernel)",
   "language": "python",
   "name": "python3"
  },
  "language_info": {
   "codemirror_mode": {
    "name": "ipython",
    "version": 3
   },
   "file_extension": ".py",
   "mimetype": "text/x-python",
   "name": "python",
   "nbconvert_exporter": "python",
   "pygments_lexer": "ipython3",
   "version": "3.12.4"
  }
 },
 "nbformat": 4,
 "nbformat_minor": 5
}
