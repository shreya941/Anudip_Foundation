{
 "cells": [
  {
   "cell_type": "code",
   "execution_count": 1,
   "id": "02cbc582-6916-4ba6-b4b0-824c65720387",
   "metadata": {},
   "outputs": [],
   "source": [
    "import numpy as np"
   ]
  },
  {
   "cell_type": "code",
   "execution_count": 5,
   "id": "ee428ee4-eb37-47aa-a337-6a8f7486e19b",
   "metadata": {},
   "outputs": [
    {
     "name": "stdout",
     "output_type": "stream",
     "text": [
      "days above 35 are days [2 5 9]\n",
      "days below 5 are days  [10 11 12 13 14 15]\n"
     ]
    }
   ],
   "source": [
    "#Suppose you have a dataset containing daily temperature readings for a city, and you want to identify days with extreme temperature conditions. Find days where the temperature either exceeded 35 degrees Celsius (hot day) or dropped below 5 degrees Celsius (cold day).\n",
    "temperatures=np.array([32.5,34.2,36.8,29.3,31.0,38.7,23.1,18.5,22.8,37.2,4,1,-1,0,-2,1])\n",
    "print(\"days above 35 are days\",*np.where(temperatures>35.0))\n",
    "print(\"days below 5 are days \",*np.where(temperatures<5))"
   ]
  },
  {
   "cell_type": "code",
   "execution_count": 6,
   "id": "21be8325-7a3e-4af0-8ebd-697243f0121f",
   "metadata": {},
   "outputs": [
    {
     "name": "stdout",
     "output_type": "stream",
     "text": [
      "quarter  0 :\n",
      "165 180 155\n",
      "quarter  1 :\n",
      "168 190 205\n",
      "quarter  2 :\n",
      "198 210 225\n"
     ]
    }
   ],
   "source": [
    "#ques2 spplit data into quaterly reports\n",
    "sales=np.array([120,135,148,165,180,155,168,190,205,198,210,225])\n",
    "i,j=0,0\n",
    "while j<len(sales):\n",
    "    print(\"quarter \",i,\":\")\n",
    "    i+=1\n",
    "    j+=4\n",
    "    print(*np.split(sales,4)[i])"
   ]
  },
  {
   "cell_type": "code",
   "execution_count": 7,
   "id": "4fd6ac07-440a-4493-8227-02d822162692",
   "metadata": {},
   "outputs": [
    {
     "name": "stdout",
     "output_type": "stream",
     "text": [
      "active customer\n",
      "[101. 102. 103. 104. 105.]\n",
      "inactive customer\n",
      "[106. 107. 108. 109. 110.]\n"
     ]
    }
   ],
   "source": [
    "#ques3 split data into 2 groups for greater than 30 and less than 30\n",
    "\n",
    "customer_ids = np.array([101, 102, 103, 104, 105, 106, 107, 108, 109, 110])\n",
    "last_purchase = np.array([5, 15, 20, 25, 30, 35, 40, 45, 50, 55])\n",
    "new=np.array([])\n",
    "ne2=np.array([])\n",
    "i=0\n",
    "while i<len(last_purchase):\n",
    "    if last_purchase[i]>30:\n",
    "        new=np.append(new,customer_ids[i])\n",
    "    else:\n",
    "        ne2=np.append(ne2,customer_ids[i])\n",
    "    i+=1\n",
    "print(\"active customer\")\n",
    "print(ne2)\n",
    "print(\"inactive customer\")\n",
    "print(new)"
   ]
  },
  {
   "cell_type": "code",
   "execution_count": 8,
   "id": "5c94491b-e003-4a2c-b8c0-640439a49bf7",
   "metadata": {},
   "outputs": [
    {
     "name": "stdout",
     "output_type": "stream",
     "text": [
      "Employee ID 101 , Name John Doe , type Full-Time , Salary 55000\n",
      "Employee ID 102 , Name Jane Smith , type Full-Time , Salary 60000\n",
      "Employee ID 103 , Name Mike Johnson , type Full-Time , Salary 52000\n",
      "Employee ID 201 , Name Alice Brown , type Part-Time , Salary 25000\n",
      "Employee ID 202 , Name Bob Wilson , type Part-Time , Salary 28000\n",
      "Employee ID 203 , Name Emily Davis , type Part-Time , Salary 22000\n"
     ]
    }
   ],
   "source": [
    "#ques4 combine this data to create a comprehensive employee dataset for HR analysis\n",
    "full_time_employees = np.array([\n",
    "[101, 'John Doe', 'Full-Time', 55000],\n",
    "[102, 'Jane Smith', 'Full-Time', 60000],\n",
    "[103, 'Mike Johnson', 'Full-Time', 52000]\n",
    "])\n",
    "\n",
    "part_time_employees = np.array([\n",
    "[201, 'Alice Brown', 'Part-Time', 25000],\n",
    "[202, 'Bob Wilson', 'Part-Time', 28000],\n",
    "[203, 'Emily Davis', 'Part-Time', 22000]\n",
    "])\n",
    "\n",
    "arr_new=np.vstack((full_time_employees,part_time_employees))\n",
    "for i in arr_new:\n",
    "    print(\"Employee ID\",i[0],\", Name\",i[1],\", type\",i[2],\", Salary\",i[3])\n"
   ]
  },
  {
   "cell_type": "code",
   "execution_count": 9,
   "id": "d877e3c0-e465-4c32-8816-e9a7bb2e64e5",
   "metadata": {},
   "outputs": [
    {
     "name": "stdout",
     "output_type": "stream",
     "text": [
      "5.5\n",
      "30.6\n",
      "34.0\n"
     ]
    }
   ],
   "source": [
    "#ASSIGNMNET\n",
    "\n",
    "#ques1-----------------\n",
    "list1 = [\n",
    "np.array([3, 2, 8, 9]),\n",
    "np.array([4, 12, 34, 25, 78]),\n",
    "np.array([23, 12, 67])\n",
    "]\n",
    "\n",
    "v=0\n",
    "for i in list1:\n",
    "    print(np.mean(list1[v]))\n",
    "    v+=1\n"
   ]
  },
  {
   "cell_type": "code",
   "execution_count": 10,
   "id": "d19a95a0-3321-4f17-9998-d814c34842c9",
   "metadata": {},
   "outputs": [
    {
     "name": "stdout",
     "output_type": "stream",
     "text": [
      "median is : 4.0\n"
     ]
    }
   ],
   "source": [
    "#ques2-------------------\n",
    "x_odd = np.array([1, 2, 3, 4, 5, 6, 7])\n",
    "print(\"median is :\",np.median(x_odd))"
   ]
  },
  {
   "cell_type": "code",
   "execution_count": 11,
   "id": "ca69733e-e0d4-494a-bc7a-b8c21c9782a1",
   "metadata": {},
   "outputs": [
    {
     "name": "stdout",
     "output_type": "stream",
     "text": [
      "standard deviation : 12.576167937809991\n",
      "float 32 12.576168\n",
      "float 64 12.576167937809991\n"
     ]
    }
   ],
   "source": [
    "#ques3------------------------------------------------\n",
    "\n",
    "arr = [20, 2, 7, 1, 34]\n",
    "print(\"standard deviation :\",np.std(arr))\n",
    "\n",
    "arrf32=np.array(arr,dtype=np.float32)\n",
    "arrf64=np.array(arr,dtype=np.float64)\n",
    "arrstd=np.std(arrf32)\n",
    "arrstd1=np.std(arrf64)\n",
    "print(\"float 32\",arrstd)\n",
    "print(\"float 64\",arrstd1)"
   ]
  },
  {
   "cell_type": "code",
   "execution_count": null,
   "id": "145311e8-472b-4973-b6da-63265db66fc0",
   "metadata": {},
   "outputs": [],
   "source": [
    "#ques4-------------------------------\n"
   ]
  }
 ],
 "metadata": {
  "kernelspec": {
   "display_name": "Python 3 (ipykernel)",
   "language": "python",
   "name": "python3"
  },
  "language_info": {
   "codemirror_mode": {
    "name": "ipython",
    "version": 3
   },
   "file_extension": ".py",
   "mimetype": "text/x-python",
   "name": "python",
   "nbconvert_exporter": "python",
   "pygments_lexer": "ipython3",
   "version": "3.12.4"
  }
 },
 "nbformat": 4,
 "nbformat_minor": 5
}
