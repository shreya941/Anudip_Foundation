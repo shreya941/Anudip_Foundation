{
 "cells": [
  {
   "cell_type": "code",
   "execution_count": 5,
   "id": "78843426-7152-40c9-b8f5-0a151d7b5615",
   "metadata": {},
   "outputs": [
    {
     "name": "stdin",
     "output_type": "stream",
     "text": [
      "enter the number 6\n"
     ]
    },
    {
     "name": "stdout",
     "output_type": "stream",
     "text": [
      "even number\n"
     ]
    }
   ],
   "source": [
    "# BASIC PYTHON LAB 1\n",
    "# 1. Using input() function take one number from the user and using ternary operators check whether the number is even or odd\n",
    "a=int(input(\"enter the number\"))\n",
    "print(\"even number\" if a%2==0 else \"odd number\")\n"
   ]
  },
  {
   "cell_type": "code",
   "execution_count": 6,
   "id": "e4cfa7e9-ff75-4fbf-99f3-665d48c95b56",
   "metadata": {},
   "outputs": [
    {
     "name": "stdin",
     "output_type": "stream",
     "text": [
      "enter 1st number 5\n",
      "enter 2nd number 6\n"
     ]
    },
    {
     "name": "stdout",
     "output_type": "stream",
     "text": [
      "value of a is :  6\n",
      "value of b is :  5\n"
     ]
    }
   ],
   "source": [
    "#2. Using input function take two number and then swap the number\n",
    "\n",
    "a= int (input(\"enter 1st number\"))\n",
    "b= int (input(\"enter 2nd number\"))\n",
    "a,b=b,a\n",
    "print(\"value of a is : \",a)\n",
    "print(\"value of b is : \",b)"
   ]
  },
  {
   "cell_type": "code",
   "execution_count": 7,
   "id": "2a7b69b7-39fc-40c1-ad96-a66d0453e121",
   "metadata": {},
   "outputs": [
    {
     "name": "stdin",
     "output_type": "stream",
     "text": [
      "enter kilometers :  6\n"
     ]
    },
    {
     "name": "stdout",
     "output_type": "stream",
     "text": [
      "there are  3.726  miles in  6  kilometers. \n"
     ]
    }
   ],
   "source": [
    "#3. Write a Program to Convert Kilometers to Miles\n",
    "a=int(input(\"enter kilometers : \"))\n",
    "miles=a*0.621\n",
    "print(\"there are \", miles, \" miles in \",a,\" kilometers. \")"
   ]
  },
  {
   "cell_type": "code",
   "execution_count": 8,
   "id": "5666d002-a067-46ef-ba91-d073be333057",
   "metadata": {},
   "outputs": [
    {
     "name": "stdout",
     "output_type": "stream",
     "text": [
      "Simple interest on Rs. 200 for 5 years at 5% per year is :  50.0\n"
     ]
    }
   ],
   "source": [
    "#4. Find the Simple Interest on Rs. 200 for 5 years at 5% per year\n",
    "p=200\n",
    "t=5\n",
    "r=5\n",
    "si=(p*r*t)/100\n",
    "print(\"Simple interest on Rs. 200 for 5 years at 5% per year is : \",si)"
   ]
  }
 ],
 "metadata": {
  "kernelspec": {
   "display_name": "Python 3 (ipykernel)",
   "language": "python",
   "name": "python3"
  },
  "language_info": {
   "codemirror_mode": {
    "name": "ipython",
    "version": 3
   },
   "file_extension": ".py",
   "mimetype": "text/x-python",
   "name": "python",
   "nbconvert_exporter": "python",
   "pygments_lexer": "ipython3",
   "version": "3.12.4"
  }
 },
 "nbformat": 4,
 "nbformat_minor": 5
}
